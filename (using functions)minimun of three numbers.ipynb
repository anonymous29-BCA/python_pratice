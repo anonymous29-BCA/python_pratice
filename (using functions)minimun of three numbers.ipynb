{
 "cells": [
  {
   "cell_type": "code",
   "execution_count": 6,
   "id": "36112376-6f9c-4bd3-8273-ca079574415f",
   "metadata": {},
   "outputs": [
    {
     "name": "stdout",
     "output_type": "stream",
     "text": [
      "The minimum value is: 3\n"
     ]
    }
   ],
   "source": [
    "# Define your numbers\n",
    "num1 = 5\n",
    "num2 = 3\n",
    "num3 = 9\n",
    "\n",
    "# Find the minimum value\n",
    "minimum_value = min(num1, num2, num3)\n",
    "\n",
    "# Print the result\n",
    "print(\"The minimum value is:\", minimum_value)\n"
   ]
  },
  {
   "cell_type": "code",
   "execution_count": 12,
   "id": "a30dbd82-6f36-49a4-b7e3-5d8022f7b5fd",
   "metadata": {},
   "outputs": [
    {
     "name": "stdin",
     "output_type": "stream",
     "text": [
      " 3\n",
      " 7\n",
      " 10\n"
     ]
    },
    {
     "name": "stdout",
     "output_type": "stream",
     "text": [
      "10\n"
     ]
    }
   ],
   "source": [
    "#minimum of three numbers\n",
    "def max(a,b,c):\n",
    "    if a>b and a>c:\n",
    "        return a\n",
    "    elif b>a and b>c:\n",
    "        return b\n",
    "    else:\n",
    "        return c\n",
    "a=int(input())\n",
    "b=int(input())\n",
    "c=int(input())\n",
    "print(max(a,b,c))"
   ]
  },
  {
   "cell_type": "code",
   "execution_count": 16,
   "id": "9684b4bb-ba79-42a9-866f-fba1b076ad1a",
   "metadata": {},
   "outputs": [
    {
     "name": "stdin",
     "output_type": "stream",
     "text": [
      " 5\n",
      " 10\n",
      " 100\n"
     ]
    },
    {
     "name": "stdout",
     "output_type": "stream",
     "text": [
      "5\n"
     ]
    }
   ],
   "source": [
    "#minimum of three numbers\n",
    "def min(a,b,c):\n",
    "    if a<b and a<c:\n",
    "        return a\n",
    "    elif b<a and b<c:\n",
    "        return b\n",
    "    else:\n",
    "        return c\n",
    "a=int(input())\n",
    "b=int(input())\n",
    "c=int(input())\n",
    "print(min(a,b,c))"
   ]
  },
  {
   "cell_type": "code",
   "execution_count": 18,
   "id": "5b09242d-4169-4713-b641-b3abb3a00e37",
   "metadata": {},
   "outputs": [
    {
     "name": "stdout",
     "output_type": "stream",
     "text": [
      "15\n"
     ]
    }
   ],
   "source": [
    "#sum of all number in a list without using built in function\n",
    "def sum_of_list(list):\n",
    "  s=0\n",
    "  for i in list:\n",
    "    s=s+i\n",
    "  return s\n",
    "list=[1,2,3,4,5]\n",
    "result=sum_of_list(list)\n",
    "print(result)"
   ]
  },
  {
   "cell_type": "code",
   "execution_count": null,
   "id": "423c374e-f0ad-45d4-acf2-91381e311b77",
   "metadata": {},
   "outputs": [],
   "source": []
  }
 ],
 "metadata": {
  "kernelspec": {
   "display_name": "Python 3 (ipykernel)",
   "language": "python",
   "name": "python3"
  },
  "language_info": {
   "codemirror_mode": {
    "name": "ipython",
    "version": 3
   },
   "file_extension": ".py",
   "mimetype": "text/x-python",
   "name": "python",
   "nbconvert_exporter": "python",
   "pygments_lexer": "ipython3",
   "version": "3.12.4"
  }
 },
 "nbformat": 4,
 "nbformat_minor": 5
}
