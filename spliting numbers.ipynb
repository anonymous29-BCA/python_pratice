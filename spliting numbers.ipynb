{
 "cells": [
  {
   "cell_type": "code",
   "execution_count": 2,
   "id": "825b45e2-59c3-41b0-95a9-c2103f5748c0",
   "metadata": {},
   "outputs": [
    {
     "name": "stdin",
     "output_type": "stream",
     "text": [
      " 515\n"
     ]
    },
    {
     "name": "stdout",
     "output_type": "stream",
     "text": [
      "51\n"
     ]
    }
   ],
   "source": [
    "n=int(input())\n",
    "new_number=n//10\n",
    "print(new_number)"
   ]
  },
  {
   "cell_type": "code",
   "execution_count": 6,
   "id": "4b52cfc3-c40f-4336-a7eb-aec73acd493a",
   "metadata": {},
   "outputs": [
    {
     "name": "stdin",
     "output_type": "stream",
     "text": [
      " 515\n"
     ]
    },
    {
     "name": "stdout",
     "output_type": "stream",
     "text": [
      "pokemon 3\n"
     ]
    }
   ],
   "source": [
    "a=int(input())\n",
    "count=0\n",
    "while a>0:\n",
    "    a=a//10\n",
    "    count=count+1\n",
    "print(\"pokemon\",count)c"
   ]
  },
  {
   "cell_type": "code",
   "execution_count": null,
   "id": "f18996c1-47bf-4ee8-983f-d1423344fcd9",
   "metadata": {},
   "outputs": [],
   "source": []
  }
 ],
 "metadata": {
  "kernelspec": {
   "display_name": "Python 3 (ipykernel)",
   "language": "python",
   "name": "python3"
  },
  "language_info": {
   "codemirror_mode": {
    "name": "ipython",
    "version": 3
   },
   "file_extension": ".py",
   "mimetype": "text/x-python",
   "name": "python",
   "nbconvert_exporter": "python",
   "pygments_lexer": "ipython3",
   "version": "3.12.4"
  }
 },
 "nbformat": 4,
 "nbformat_minor": 5
}
